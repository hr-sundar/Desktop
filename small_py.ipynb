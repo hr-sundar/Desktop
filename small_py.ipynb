{
  "nbformat": 4,
  "nbformat_minor": 0,
  "metadata": {
    "colab": {
      "provenance": [],
      "authorship_tag": "ABX9TyNWAYigQXKRwY/zGwVTqvnp",
      "include_colab_link": true
    },
    "kernelspec": {
      "name": "python3",
      "display_name": "Python 3"
    },
    "language_info": {
      "name": "python"
    }
  },
  "cells": [
    {
      "cell_type": "markdown",
      "metadata": {
        "id": "view-in-github",
        "colab_type": "text"
      },
      "source": [
        "<a href=\"https://colab.research.google.com/github/hr-sundar/Desktop/blob/main/small_py.ipynb\" target=\"_parent\"><img src=\"https://colab.research.google.com/assets/colab-badge.svg\" alt=\"Open In Colab\"/></a>"
      ]
    },
    {
      "cell_type": "code",
      "execution_count": null,
      "metadata": {
        "colab": {
          "base_uri": "https://localhost:8080/"
        },
        "id": "_Bqy4oouCVEA",
        "outputId": "22ffaf0a-8810-428d-e631-68a537e6250a"
      },
      "outputs": [
        {
          "output_type": "stream",
          "name": "stdout",
          "text": [
            "2\n"
          ]
        }
      ],
      "source": [
        "a = 2\n",
        "print(a)"
      ]
    },
    {
      "cell_type": "code",
      "source": [
        "def factorial(n):\n",
        "  \"\"\"\n",
        "  This function calculates the factorial of a number.\n",
        "\n",
        "  Args:\n",
        "    n: The number to calculate the factorial of.\n",
        "\n",
        "  Returns:\n",
        "    The factorial of n.\n",
        "  \"\"\"\n",
        "  if n == 0:\n",
        "    return 1\n",
        "  else:\n",
        "    return n * factorial(n - 1)\n",
        "\n",
        "# Get input from the user\n",
        "num = int(input(\"Enter a number: \"))\n",
        "\n",
        "# Calculate the factorial\n",
        "result = factorial(num)\n",
        "\n",
        "# Print the result\n",
        "print(\"The factorial of\", num, \"is\", result)"
      ],
      "metadata": {
        "colab": {
          "base_uri": "https://localhost:8080/"
        },
        "id": "N8tYCk8wCcxU",
        "outputId": "880c2852-c29d-473a-d65c-fb224c308f98"
      },
      "execution_count": null,
      "outputs": [
        {
          "output_type": "stream",
          "name": "stdout",
          "text": [
            "Enter a number: 2\n",
            "The factorial of 2 is 2\n"
          ]
        }
      ]
    },
    {
      "cell_type": "code",
      "source": [],
      "metadata": {
        "id": "SXCgDo5mCc05"
      },
      "execution_count": null,
      "outputs": []
    }
  ]
}