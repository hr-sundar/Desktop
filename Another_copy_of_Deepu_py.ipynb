{
  "nbformat": 4,
  "nbformat_minor": 0,
  "metadata": {
    "colab": {
      "provenance": [],
      "authorship_tag": "ABX9TyPMTv7CMQeGP/P/fyTWdds2",
      "include_colab_link": true
    },
    "kernelspec": {
      "name": "python3",
      "display_name": "Python 3"
    },
    "language_info": {
      "name": "python"
    }
  },
  "cells": [
    {
      "cell_type": "markdown",
      "metadata": {
        "id": "view-in-github",
        "colab_type": "text"
      },
      "source": [
        "<a href=\"https://colab.research.google.com/github/hr-sundar/Desktop/blob/main/Another_copy_of_Deepu_py.ipynb\" target=\"_parent\"><img src=\"https://colab.research.google.com/assets/colab-badge.svg\" alt=\"Open In Colab\"/></a>"
      ]
    },
    {
      "cell_type": "code",
      "source": [
        "name = \" Raju is king of the python \"\n",
        "print(name)"
      ],
      "metadata": {
        "colab": {
          "base_uri": "https://localhost:8080/"
        },
        "id": "o4ti5CyCXVYJ",
        "outputId": "2d9bebf8-b0ee-4f29-91bc-4980bba5abb7"
      },
      "execution_count": null,
      "outputs": [
        {
          "output_type": "stream",
          "name": "stdout",
          "text": [
            " Raju is king of the python \n"
          ]
        }
      ]
    },
    {
      "cell_type": "code",
      "source": [
        "name = \"Deepika is very beutiful girl in the world \"\n",
        "print(name)"
      ],
      "metadata": {
        "colab": {
          "base_uri": "https://localhost:8080/"
        },
        "id": "q31r1WUsXVKz",
        "outputId": "8a4c79eb-ebfd-4e03-8e6c-40c8a6bc889a"
      },
      "execution_count": null,
      "outputs": [
        {
          "output_type": "stream",
          "name": "stdout",
          "text": [
            "Deepika is very beutiful girl in the world \n"
          ]
        }
      ]
    },
    {
      "cell_type": "code",
      "source": [
        "name = \"M Sundara Raju , M Deepika\"\n",
        "print(\"Both of them are close friends : \" +name)"
      ],
      "metadata": {
        "colab": {
          "base_uri": "https://localhost:8080/"
        },
        "id": "4LR0x3eGXVGj",
        "outputId": "7fc41dcc-af57-49f2-dfb4-e8061aa13264"
      },
      "execution_count": null,
      "outputs": [
        {
          "output_type": "stream",
          "name": "stdout",
          "text": [
            "Both of them are close friends : M Sundara Raju , M Deepika\n"
          ]
        }
      ]
    },
    {
      "cell_type": "code",
      "source": [
        " a = 10\n",
        " b = 20\n",
        " print(a+b)"
      ],
      "metadata": {
        "colab": {
          "base_uri": "https://localhost:8080/"
        },
        "id": "e4l67k31Y6af",
        "outputId": "aff0242a-7411-49cb-8c93-26ddb84da0b1"
      },
      "execution_count": null,
      "outputs": [
        {
          "output_type": "stream",
          "name": "stdout",
          "text": [
            "30\n"
          ]
        }
      ]
    },
    {
      "cell_type": "code",
      "execution_count": null,
      "metadata": {
        "colab": {
          "base_uri": "https://localhost:8080/"
        },
        "id": "_Na53IRPE1aJ",
        "outputId": "b041e827-256e-47dc-ad95-bf8ca6ef594c"
      },
      "outputs": [
        {
          "output_type": "stream",
          "name": "stdout",
          "text": [
            "M SUNDAR\n"
          ]
        }
      ],
      "source": [
        "a = \"M SUNDAR\"\n",
        "print(a)"
      ]
    },
    {
      "cell_type": "code",
      "source": [
        "a = int(input(\"\"))\n",
        "b = int(input(\"\"))\n",
        "print(\"power of a \",a**b)"
      ],
      "metadata": {
        "colab": {
          "base_uri": "https://localhost:8080/"
        },
        "id": "m_-y5ijIFefq",
        "outputId": "b59b44f8-75f0-4a37-bdd2-743d76d3bb0a"
      },
      "execution_count": null,
      "outputs": [
        {
          "output_type": "stream",
          "name": "stdout",
          "text": [
            "2\n",
            "3\n",
            "power of a and b 8\n"
          ]
        }
      ]
    },
    {
      "cell_type": "code",
      "source": [
        "a = 2*6-3/8+4-8*9\n",
        "print(a)"
      ],
      "metadata": {
        "colab": {
          "base_uri": "https://localhost:8080/"
        },
        "id": "oyoIw0UHFedG",
        "outputId": "87b6052d-043b-4cd9-8497-dfae6750d2eb"
      },
      "execution_count": null,
      "outputs": [
        {
          "output_type": "stream",
          "name": "stdout",
          "text": [
            "-56.375\n"
          ]
        }
      ]
    },
    {
      "cell_type": "code",
      "source": [
        "a = \"M SUNDARA RAJU\"\n",
        "print(len(a))"
      ],
      "metadata": {
        "colab": {
          "base_uri": "https://localhost:8080/"
        },
        "id": "IkeXSunYFeab",
        "outputId": "23ccf906-4691-47aa-c740-608e52f25a4f"
      },
      "execution_count": null,
      "outputs": [
        {
          "output_type": "stream",
          "name": "stdout",
          "text": [
            "14\n"
          ]
        }
      ]
    },
    {
      "cell_type": "code",
      "source": [
        "a = (2.44)\n",
        "print(type(str(a)))"
      ],
      "metadata": {
        "colab": {
          "base_uri": "https://localhost:8080/"
        },
        "id": "gQkLiHpSFeYR",
        "outputId": "fe8c11cc-d6df-4b99-cf48-b519ed1aa287"
      },
      "execution_count": null,
      "outputs": [
        {
          "output_type": "stream",
          "name": "stdout",
          "text": [
            "<class 'str'>\n"
          ]
        }
      ]
    },
    {
      "cell_type": "code",
      "source": [
        "string = \"m sundara raju\"\n",
        "print(string[0:14])"
      ],
      "metadata": {
        "colab": {
          "base_uri": "https://localhost:8080/"
        },
        "id": "EJhbQJCXITUd",
        "outputId": "4d4486a9-940b-4aae-b943-4b258b09caf6"
      },
      "execution_count": null,
      "outputs": [
        {
          "output_type": "stream",
          "name": "stdout",
          "text": [
            "m sundara raju\n"
          ]
        }
      ]
    },
    {
      "cell_type": "code",
      "source": [
        "a = 5\n",
        "b = 10\n",
        "print(a!=b)"
      ],
      "metadata": {
        "colab": {
          "base_uri": "https://localhost:8080/"
        },
        "id": "snq-RHgHITRG",
        "outputId": "e9d8c497-a547-416e-82da-0639dc81d142"
      },
      "execution_count": null,
      "outputs": [
        {
          "output_type": "stream",
          "name": "stdout",
          "text": [
            "True\n"
          ]
        }
      ]
    },
    {
      "cell_type": "code",
      "source": [
        "print(1.0+3.5+6+7.9)"
      ],
      "metadata": {
        "colab": {
          "base_uri": "https://localhost:8080/"
        },
        "id": "2PZXk8HFITNf",
        "outputId": "5ac7d1e8-19b7-4c04-d73e-91c4c1180af7"
      },
      "execution_count": null,
      "outputs": [
        {
          "output_type": "stream",
          "name": "stdout",
          "text": [
            "18.4\n"
          ]
        }
      ]
    },
    {
      "cell_type": "code",
      "source": [
        " a = 5>2\n",
        " b = 4<5\n",
        " print(a & b)"
      ],
      "metadata": {
        "colab": {
          "base_uri": "https://localhost:8080/"
        },
        "id": "wj_CCiC5ITK0",
        "outputId": "ec7a92d7-4919-413a-f7d4-f14ae077b891"
      },
      "execution_count": null,
      "outputs": [
        {
          "output_type": "stream",
          "name": "stdout",
          "text": [
            "True\n"
          ]
        }
      ]
    },
    {
      "cell_type": "code",
      "source": [
        "a = 2>5\n",
        "print( a)"
      ],
      "metadata": {
        "colab": {
          "base_uri": "https://localhost:8080/"
        },
        "id": "D4jp7UkTITDM",
        "outputId": "00756fde-6fc9-4e05-9541-8589e64edaa2"
      },
      "execution_count": null,
      "outputs": [
        {
          "output_type": "stream",
          "name": "stdout",
          "text": [
            "False\n"
          ]
        }
      ]
    },
    {
      "cell_type": "code",
      "source": [
        "print(\"sundar==deepika\")"
      ],
      "metadata": {
        "colab": {
          "base_uri": "https://localhost:8080/"
        },
        "id": "iZOpfKfLMtVR",
        "outputId": "69962dcc-4f2e-4c52-9e2e-022c1a0a4b89"
      },
      "execution_count": null,
      "outputs": [
        {
          "output_type": "stream",
          "name": "stdout",
          "text": [
            "sundar==deepika\n"
          ]
        }
      ]
    },
    {
      "cell_type": "code",
      "source": [
        " a= 5>4\n",
        " if ():\n",
        "     print(a)"
      ],
      "metadata": {
        "colab": {
          "base_uri": "https://localhost:8080/"
        },
        "id": "7iZYsIbTMtR4",
        "outputId": "ca51c6d2-0aad-40ad-a574-4e304d19ac37"
      },
      "execution_count": null,
      "outputs": [
        {
          "output_type": "stream",
          "name": "stdout",
          "text": [
            "True\n"
          ]
        }
      ]
    },
    {
      "cell_type": "code",
      "source": [
        "a = int(input(\"enter your age\"))\n",
        "if a <18:\n",
        "    print(\"your minor\")\n",
        "elif a >=18 and a<=60:\n",
        "    print(\"your are adult\")\n",
        "else:\n",
        "    print(\"senior citizen\")"
      ],
      "metadata": {
        "colab": {
          "base_uri": "https://localhost:8080/"
        },
        "id": "74bEr5wKMtPi",
        "outputId": "a6a9390e-7b6a-4fda-9bfd-424510b5cb59"
      },
      "execution_count": null,
      "outputs": [
        {
          "output_type": "stream",
          "name": "stdout",
          "text": [
            "enter your age800\n",
            "senior citizen\n"
          ]
        }
      ]
    },
    {
      "cell_type": "code",
      "source": [
        "a = int(input(\"\"))\n",
        "if (a%2==0):\n",
        "  print(str(a)+\"even number\")\n",
        "else:\n",
        "  print(str(a)  +  \"odd number\")"
      ],
      "metadata": {
        "colab": {
          "base_uri": "https://localhost:8080/"
        },
        "id": "qY3Fw7UHMtNB",
        "outputId": "0561f7ee-e837-42e3-f99c-6ceff6a806ec"
      },
      "execution_count": null,
      "outputs": [
        {
          "output_type": "stream",
          "name": "stdout",
          "text": [
            "11\n",
            "11odd number\n"
          ]
        }
      ]
    },
    {
      "cell_type": "code",
      "source": [
        "x = int(input(\"\"))\n",
        "if x>0:\n",
        "  print(' x is a positive')\n",
        "  if x%2==0:\n",
        "     print(\"x is even\")\n",
        "  else:\n",
        "     print(\"x is odd\")\n",
        "else:\n",
        "   print(\"x is not positive\")"
      ],
      "metadata": {
        "colab": {
          "base_uri": "https://localhost:8080/"
        },
        "id": "_9d2nvmCMtKb",
        "outputId": "2345d3a2-8eaf-413c-f457-3615e0d9f118"
      },
      "execution_count": null,
      "outputs": [
        {
          "output_type": "stream",
          "name": "stdout",
          "text": [
            "-1\n",
            "x is not positive\n"
          ]
        }
      ]
    },
    {
      "cell_type": "code",
      "source": [
        "score = int(input(\"\"))\n",
        "if score >= 90:\n",
        "   print(\"grade:A\")\n",
        "elif score >=80:\n",
        "   print(\"grade:B\")\n",
        "   if score >=85:\n",
        "      print(\"grade:B+\")\n",
        "elif score >=70:\n",
        "   print(\"grade:C\")\n",
        "else:\n",
        "   print(\"grade: below c\")"
      ],
      "metadata": {
        "colab": {
          "base_uri": "https://localhost:8080/"
        },
        "id": "bQ50x4zpMtH4",
        "outputId": "6bdf753d-f0f0-4046-b8fb-30488e7bee6d"
      },
      "execution_count": null,
      "outputs": [
        {
          "output_type": "stream",
          "name": "stdout",
          "text": [
            "20\n",
            "grade: below c\n"
          ]
        }
      ]
    },
    {
      "cell_type": "code",
      "source": [
        "count = 10\n",
        "while count>0:\n",
        "    print(count)\n",
        "    count-=1"
      ],
      "metadata": {
        "colab": {
          "base_uri": "https://localhost:8080/"
        },
        "id": "2r5xI-UKTqKA",
        "outputId": "2c4a15ed-b450-4c6c-f5b0-32d33de0ccb3"
      },
      "execution_count": null,
      "outputs": [
        {
          "output_type": "stream",
          "name": "stdout",
          "text": [
            "10\n",
            "9\n",
            "8\n",
            "7\n",
            "6\n",
            "5\n",
            "4\n",
            "3\n",
            "2\n",
            "1\n"
          ]
        }
      ]
    },
    {
      "cell_type": "code",
      "source": [
        "count = 1\n",
        "while count<=20:\n",
        "    print(count)\n",
        "    count+=1"
      ],
      "metadata": {
        "id": "hAhRTIcrTp91",
        "colab": {
          "base_uri": "https://localhost:8080/"
        },
        "outputId": "b2042380-92d0-48ed-851f-4537bd18c311"
      },
      "execution_count": null,
      "outputs": [
        {
          "output_type": "stream",
          "name": "stdout",
          "text": [
            "1\n",
            "2\n",
            "3\n",
            "4\n",
            "5\n",
            "6\n",
            "7\n",
            "8\n",
            "9\n",
            "10\n",
            "11\n",
            "12\n",
            "13\n",
            "14\n",
            "15\n",
            "16\n",
            "17\n",
            "18\n",
            "19\n",
            "20\n"
          ]
        }
      ]
    },
    {
      "cell_type": "code",
      "source": [
        "product = 1\n",
        "a = int(input(\"\"))\n",
        "count = 1\n",
        "while(count<a):\n",
        "    product*= count\n",
        "    count+=1\n",
        "     print(product)"
      ],
      "metadata": {
        "id": "yKIO-MGaTp0G",
        "colab": {
          "base_uri": "https://localhost:8080/",
          "height": 106
        },
        "outputId": "9c87526b-8f21-4d27-f09c-72a23bea1a1b"
      },
      "execution_count": null,
      "outputs": [
        {
          "output_type": "error",
          "ename": "IndentationError",
          "evalue": "unexpected indent (<ipython-input-4-4698c90f89b7>, line 7)",
          "traceback": [
            "\u001b[0;36m  File \u001b[0;32m\"<ipython-input-4-4698c90f89b7>\"\u001b[0;36m, line \u001b[0;32m7\u001b[0m\n\u001b[0;31m    print(product)\u001b[0m\n\u001b[0m    ^\u001b[0m\n\u001b[0;31mIndentationError\u001b[0m\u001b[0;31m:\u001b[0m unexpected indent\n"
          ]
        }
      ]
    },
    {
      "cell_type": "code",
      "source": [
        "a = 1\n",
        "b= int(input(\"\"))\n",
        "count = 1\n",
        "while(count<b):\n",
        "    a*=count\n",
        "    count+=1\n",
        "    print(a) # Corrected indentation: print statement aligned with other statements inside the loop"
      ],
      "metadata": {
        "id": "Wo784jt4Tpx0",
        "colab": {
          "base_uri": "https://localhost:8080/"
        },
        "outputId": "f6b64b41-6eb0-4b99-ed2e-b3b75b3c389a"
      },
      "execution_count": null,
      "outputs": [
        {
          "output_type": "stream",
          "name": "stdout",
          "text": [
            "5\n",
            "1\n",
            "2\n",
            "6\n",
            "24\n"
          ]
        }
      ]
    },
    {
      "cell_type": "code",
      "source": [
        "for num in range(1,10):\n",
        "    print(num)"
      ],
      "metadata": {
        "colab": {
          "base_uri": "https://localhost:8080/"
        },
        "id": "2cvDfCTAaWAV",
        "outputId": "a0dd948a-b814-4c8b-8c57-6b83ae8dbc34"
      },
      "execution_count": null,
      "outputs": [
        {
          "output_type": "stream",
          "name": "stdout",
          "text": [
            "1\n",
            "2\n",
            "3\n",
            "4\n",
            "5\n",
            "6\n",
            "7\n",
            "8\n",
            "9\n"
          ]
        }
      ]
    },
    {
      "cell_type": "code",
      "source": [
        "a =1\n",
        "while count<=10:\n",
        "  print(count)\n",
        "  count+=1"
      ],
      "metadata": {
        "colab": {
          "base_uri": "https://localhost:8080/"
        },
        "id": "TARGgGTkaV8y",
        "outputId": "102409b2-960a-45c0-b221-44762ba9dd8f"
      },
      "execution_count": null,
      "outputs": [
        {
          "output_type": "stream",
          "name": "stdout",
          "text": [
            "1\n",
            "2\n",
            "3\n",
            "4\n",
            "5\n",
            "6\n",
            "7\n",
            "8\n",
            "9\n",
            "10\n"
          ]
        }
      ]
    },
    {
      "cell_type": "code",
      "source": [
        "for deepu in (\"sundar\"):\n",
        "  print(deepu)"
      ],
      "metadata": {
        "colab": {
          "base_uri": "https://localhost:8080/"
        },
        "id": "imDvjjYLaV5m",
        "outputId": "fbee370a-308d-480b-a900-9d5d2bb3aa94"
      },
      "execution_count": null,
      "outputs": [
        {
          "output_type": "stream",
          "name": "stdout",
          "text": [
            "s\n",
            "u\n",
            "n\n",
            "d\n",
            "a\n",
            "r\n"
          ]
        }
      ]
    },
    {
      "cell_type": "code",
      "source": [
        "s = \"i am sundar,i am deepika\"\n",
        "print(len(s))"
      ],
      "metadata": {
        "colab": {
          "base_uri": "https://localhost:8080/"
        },
        "id": "XAMLG1RIaV2_",
        "outputId": "0ba23930-bbf6-44a8-b911-f0c58b809591"
      },
      "execution_count": null,
      "outputs": [
        {
          "output_type": "stream",
          "name": "stdout",
          "text": [
            "24\n"
          ]
        }
      ]
    },
    {
      "cell_type": "code",
      "source": [
        "s = \"\"\n",
        "for num in range(1,6):\n",
        "   s = s+str(num)+\"\"\n",
        "   print(s)"
      ],
      "metadata": {
        "colab": {
          "base_uri": "https://localhost:8080/"
        },
        "id": "sQGivk6KaV0G",
        "outputId": "0b8d86b1-a4a8-4227-ba5a-e617e393bf6e"
      },
      "execution_count": null,
      "outputs": [
        {
          "output_type": "stream",
          "name": "stdout",
          "text": [
            "1\n",
            "12\n",
            "123\n",
            "1234\n",
            "12345\n"
          ]
        }
      ]
    },
    {
      "cell_type": "code",
      "source": [
        "a = \"sundar DEEPU\"\n",
        "print(a.lower())"
      ],
      "metadata": {
        "id": "0eQOw5f-aVxc",
        "colab": {
          "base_uri": "https://localhost:8080/"
        },
        "outputId": "5e6ca13d-13ce-4a5b-8b34-b5016df24637"
      },
      "execution_count": null,
      "outputs": [
        {
          "output_type": "stream",
          "name": "stdout",
          "text": [
            "hello world\n"
          ]
        }
      ]
    },
    {
      "cell_type": "code",
      "source": [
        "a = \"SUNDAR deepu\"\n",
        "print(a.upper()) # Changed 'heigher' to 'upper'"
      ],
      "metadata": {
        "colab": {
          "base_uri": "https://localhost:8080/"
        },
        "id": "kkEjNvRAMcR6",
        "outputId": "15b7d1a4-bf24-4de6-982d-0eed31e5a9a8"
      },
      "execution_count": null,
      "outputs": [
        {
          "output_type": "stream",
          "name": "stdout",
          "text": [
            "HELLO WORLD\n"
          ]
        }
      ]
    },
    {
      "cell_type": "code",
      "source": [
        "print(a.strip())"
      ],
      "metadata": {
        "colab": {
          "base_uri": "https://localhost:8080/"
        },
        "id": "xuy8MYJSMcOU",
        "outputId": "931d7f6d-dca8-4497-b1cb-150e478e3a2a"
      },
      "execution_count": null,
      "outputs": [
        {
          "output_type": "stream",
          "name": "stdout",
          "text": [
            "HELLO world\n"
          ]
        }
      ]
    },
    {
      "cell_type": "code",
      "source": [
        "a = \"1234\"\n",
        "b = a[::-1]\n",
        "print(b)"
      ],
      "metadata": {
        "colab": {
          "base_uri": "https://localhost:8080/"
        },
        "id": "Ejinc80LMcL2",
        "outputId": "40ca1aa9-bdd8-4f3e-a013-e99e3f8f8e51"
      },
      "execution_count": null,
      "outputs": [
        {
          "output_type": "stream",
          "name": "stdout",
          "text": [
            "4321\n"
          ]
        }
      ]
    },
    {
      "cell_type": "code",
      "source": [
        "a = '1112'\n",
        "b = a[::-1]\n",
        "if a==b:\n",
        "  print(\"palindrome\")\n",
        "else:\n",
        "  print(\"not palindrome\")"
      ],
      "metadata": {
        "colab": {
          "base_uri": "https://localhost:8080/"
        },
        "id": "YMWT2qPHMcJH",
        "outputId": "928e43f3-d142-44f3-bd59-c66167eac489"
      },
      "execution_count": null,
      "outputs": [
        {
          "output_type": "stream",
          "name": "stdout",
          "text": [
            "not palindrome\n"
          ]
        }
      ]
    },
    {
      "cell_type": "code",
      "source": [
        "s = \"apple,orange,banana\"\n",
        "f = s.split(\",\")\n",
        "print(f)"
      ],
      "metadata": {
        "colab": {
          "base_uri": "https://localhost:8080/"
        },
        "id": "Iwcq1SkbMcGm",
        "outputId": "7904d1c0-a0cb-4f56-ebbc-e308c3c8bd40"
      },
      "execution_count": null,
      "outputs": [
        {
          "output_type": "stream",
          "name": "stdout",
          "text": [
            "['apple', 'orange', 'banana']\n"
          ]
        }
      ]
    },
    {
      "cell_type": "code",
      "source": [
        "s = \"apple,orange,banana\"\n",
        "f = s.startswith(\"apple\")\n",
        "print(f)"
      ],
      "metadata": {
        "colab": {
          "base_uri": "https://localhost:8080/"
        },
        "id": "Jv8Qpdz_OLjG",
        "outputId": "b3020c38-aecb-491f-923d-d7ddc80793a0"
      },
      "execution_count": null,
      "outputs": [
        {
          "output_type": "stream",
          "name": "stdout",
          "text": [
            "True\n"
          ]
        }
      ]
    },
    {
      "cell_type": "code",
      "source": [
        "string = \"apple,orange,banana\"  # Changed string to a single string\n",
        "f = string.endswith(\"banana\")\n",
        "print(f)"
      ],
      "metadata": {
        "colab": {
          "base_uri": "https://localhost:8080/"
        },
        "id": "64PL-af7OLdW",
        "outputId": "6950e123-0c1f-46a6-e1c3-671c6982b354"
      },
      "execution_count": null,
      "outputs": [
        {
          "output_type": "stream",
          "name": "stdout",
          "text": [
            "True\n"
          ]
        }
      ]
    },
    {
      "cell_type": "code",
      "source": [
        "n = 5\n",
        "for i in range(1,n+1):\n",
        "  for j in range(i):\n",
        "    print(\"*\",end=\" \")\n",
        "  print()"
      ],
      "metadata": {
        "colab": {
          "base_uri": "https://localhost:8080/"
        },
        "id": "rGLGM0RgOLam",
        "outputId": "7caada1a-568d-48c1-d378-774c1f9f2c07"
      },
      "execution_count": null,
      "outputs": [
        {
          "output_type": "stream",
          "name": "stdout",
          "text": [
            "* \n",
            "* * \n",
            "* * * \n",
            "* * * * \n",
            "* * * * * \n"
          ]
        }
      ]
    },
    {
      "cell_type": "code",
      "source": [
        "count = 1\n",
        "s = \"\"\n",
        "for i in range(5):\n",
        "    for j in range(5):\n",
        "       s+=str(count)+\"\" # Convert count to a string using str(count)\n",
        "       count+=1\n",
        "    print(s)\n",
        "    s =\"\""
      ],
      "metadata": {
        "colab": {
          "base_uri": "https://localhost:8080/"
        },
        "id": "JthaiEmkQQs7",
        "outputId": "052da1d0-3854-4d70-b2d1-284feb5430c8"
      },
      "execution_count": null,
      "outputs": [
        {
          "output_type": "stream",
          "name": "stdout",
          "text": [
            "12345\n",
            "678910\n",
            "1112131415\n",
            "1617181920\n",
            "2122232425\n"
          ]
        }
      ]
    },
    {
      "cell_type": "code",
      "source": [
        "for num in range(1,6):\n",
        "  if num ==3:\n",
        "    break\n",
        "  print(num)"
      ],
      "metadata": {
        "colab": {
          "base_uri": "https://localhost:8080/"
        },
        "id": "45xPbmVcQQpd",
        "outputId": "a9317d6d-dd4e-4762-e575-ab177fd18727"
      },
      "execution_count": null,
      "outputs": [
        {
          "output_type": "stream",
          "name": "stdout",
          "text": [
            "1\n",
            "2\n"
          ]
        }
      ]
    },
    {
      "cell_type": "code",
      "source": [
        "for num in range(1,6):\n",
        "  if num % 2 ==0:\n",
        "    continue\n",
        "  print(num)"
      ],
      "metadata": {
        "colab": {
          "base_uri": "https://localhost:8080/"
        },
        "id": "4rVxjvyiQQm0",
        "outputId": "84e0613b-9c82-4099-f8df-fb4e2e4d0d5a"
      },
      "execution_count": null,
      "outputs": [
        {
          "output_type": "stream",
          "name": "stdout",
          "text": [
            "1\n",
            "3\n",
            "5\n"
          ]
        }
      ]
    },
    {
      "cell_type": "code",
      "source": [
        "a = \"sundar\"\n",
        "b = \"deepika\"\n",
        "print(ord('b')) # Pass the first character of string 'a' to ord()"
      ],
      "metadata": {
        "colab": {
          "base_uri": "https://localhost:8080/"
        },
        "id": "1CV-tizTQQhg",
        "outputId": "30a0b4b4-5f18-484d-a9bf-20283353b11a"
      },
      "execution_count": null,
      "outputs": [
        {
          "output_type": "stream",
          "name": "stdout",
          "text": [
            "98\n"
          ]
        }
      ]
    },
    {
      "cell_type": "code",
      "source": [
        "print(a>b)"
      ],
      "metadata": {
        "colab": {
          "base_uri": "https://localhost:8080/"
        },
        "id": "3Y6RLpkiVbZp",
        "outputId": "6bb12476-4543-4873-ead5-458a2157f02e"
      },
      "execution_count": null,
      "outputs": [
        {
          "output_type": "stream",
          "name": "stdout",
          "text": [
            "True\n"
          ]
        }
      ]
    },
    {
      "cell_type": "code",
      "source": [
        "n = [1,2,3,4,5,\"deepu\"]\n",
        "print(n)"
      ],
      "metadata": {
        "colab": {
          "base_uri": "https://localhost:8080/"
        },
        "id": "MDr1IGc1VbWP",
        "outputId": "aec3b946-6b7d-4073-bad9-a396e845a401"
      },
      "execution_count": null,
      "outputs": [
        {
          "output_type": "stream",
          "name": "stdout",
          "text": [
            "[1, 2, 3, 4, 5, 'deepu']\n"
          ]
        }
      ]
    },
    {
      "cell_type": "code",
      "source": [
        "n[0] = \"sundar\"\n",
        "print(n)"
      ],
      "metadata": {
        "colab": {
          "base_uri": "https://localhost:8080/"
        },
        "id": "ZPwZMK2VVbTe",
        "outputId": "cb19dcd4-9821-4ab6-d564-e0e67dfdc809"
      },
      "execution_count": null,
      "outputs": [
        {
          "output_type": "stream",
          "name": "stdout",
          "text": [
            "['sundar', 2, 3, 4, 5, 'deepu']\n"
          ]
        }
      ]
    },
    {
      "cell_type": "code",
      "source": [
        "a = [\"raju\",\"deepu\"]\n"
      ],
      "metadata": {
        "id": "IafYmQwmVbRA"
      },
      "execution_count": null,
      "outputs": []
    },
    {
      "cell_type": "code",
      "source": [],
      "metadata": {
        "id": "weFH9zTRVbOE"
      },
      "execution_count": null,
      "outputs": []
    },
    {
      "cell_type": "code",
      "source": [],
      "metadata": {
        "id": "1Fq_wOl8VbKs"
      },
      "execution_count": null,
      "outputs": []
    }
  ]
}